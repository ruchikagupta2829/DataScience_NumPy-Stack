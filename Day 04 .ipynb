{
 "cells": [
  {
   "cell_type": "markdown",
   "id": "be2776dc",
   "metadata": {},
   "source": [
    "# Program for creating arrays using different functions."
   ]
  },
  {
   "cell_type": "code",
   "execution_count": 1,
   "id": "0fe202ac",
   "metadata": {},
   "outputs": [],
   "source": [
    "import numpy as np"
   ]
  },
  {
   "cell_type": "code",
   "execution_count": 3,
   "id": "599b0069",
   "metadata": {},
   "outputs": [
    {
     "name": "stdout",
     "output_type": "stream",
     "text": [
      "[ 0  1  2  3  4  5  6  7  8  9 10 11 12 13 14]\n"
     ]
    }
   ],
   "source": [
    "myarray = np.arange(15)\n",
    "print(myarray)"
   ]
  },
  {
   "cell_type": "markdown",
   "id": "1ed11526",
   "metadata": {},
   "source": [
    "# creating float array using arange() function"
   ]
  },
  {
   "cell_type": "code",
   "execution_count": 6,
   "id": "d8b5f517",
   "metadata": {},
   "outputs": [
    {
     "name": "stdout",
     "output_type": "stream",
     "text": [
      "[14. 15. 16. 17. 18.]\n"
     ]
    },
    {
     "name": "stderr",
     "output_type": "stream",
     "text": [
      "C:\\Users\\RUCHIK~1\\AppData\\Local\\Temp/ipykernel_6364/189148653.py:1: DeprecationWarning: `np.float` is a deprecated alias for the builtin `float`. To silence this warning, use `float` by itself. Doing this will not modify any behavior and is safe. If you specifically wanted the numpy scalar type, use `np.float64` here.\n",
      "Deprecated in NumPy 1.20; for more details and guidance: https://numpy.org/devdocs/release/1.20.0-notes.html#deprecations\n",
      "  myarray1 = np.arange(14,19, dtype = np.float)\n"
     ]
    }
   ],
   "source": [
    "myarray1 = np.arange(14,19, dtype = np.float)\n",
    "print(myarray1)"
   ]
  },
  {
   "cell_type": "markdown",
   "id": "1911e158",
   "metadata": {},
   "source": [
    "# Creating an integer array using linspace() for equal spacing"
   ]
  },
  {
   "cell_type": "code",
   "execution_count": 8,
   "id": "36d4b103",
   "metadata": {},
   "outputs": [
    {
     "name": "stdout",
     "output_type": "stream",
     "text": [
      "[12. 15. 18. 21. 24.]\n"
     ]
    }
   ],
   "source": [
    "myarray2 = np.linspace(12,24,5)\n",
    "print(myarray2)"
   ]
  },
  {
   "cell_type": "markdown",
   "id": "2a095677",
   "metadata": {},
   "source": [
    "# Creating float array using linspace() for equal spacing."
   ]
  },
  {
   "cell_type": "code",
   "execution_count": 9,
   "id": "8de37479",
   "metadata": {},
   "outputs": [
    {
     "name": "stdout",
     "output_type": "stream",
     "text": [
      "[1.   1.75 2.5  3.25 4.  ]\n"
     ]
    }
   ],
   "source": [
    "myarray3 = np.linspace(1. ,  4. ,  5)\n",
    "print(myarray3)"
   ]
  },
  {
   "cell_type": "markdown",
   "id": "85c61f3a",
   "metadata": {},
   "source": [
    "# Creating array using Zeros() function."
   ]
  },
  {
   "cell_type": "code",
   "execution_count": 10,
   "id": "306b7edf",
   "metadata": {},
   "outputs": [
    {
     "name": "stdout",
     "output_type": "stream",
     "text": [
      "[0. 0. 0. 0.]\n"
     ]
    }
   ],
   "source": [
    "myarray4 = np.zeros((4))\n",
    "print(myarray4)"
   ]
  },
  {
   "cell_type": "markdown",
   "id": "a14188f0",
   "metadata": {},
   "source": [
    "# Creating array using ones() function."
   ]
  },
  {
   "cell_type": "code",
   "execution_count": 11,
   "id": "30636ec5",
   "metadata": {},
   "outputs": [
    {
     "name": "stdout",
     "output_type": "stream",
     "text": [
      "[1. 1. 1. 1. 1. 1. 1. 1. 1. 1.]\n"
     ]
    }
   ],
   "source": [
    "myarray5 = np.ones((10))\n",
    "print(myarray5)"
   ]
  },
  {
   "cell_type": "code",
   "execution_count": null,
   "id": "d34f6389",
   "metadata": {},
   "outputs": [],
   "source": []
  }
 ],
 "metadata": {
  "kernelspec": {
   "display_name": "Python 3 (ipykernel)",
   "language": "python",
   "name": "python3"
  },
  "language_info": {
   "codemirror_mode": {
    "name": "ipython",
    "version": 3
   },
   "file_extension": ".py",
   "mimetype": "text/x-python",
   "name": "python",
   "nbconvert_exporter": "python",
   "pygments_lexer": "ipython3",
   "version": "3.9.7"
  }
 },
 "nbformat": 4,
 "nbformat_minor": 5
}
