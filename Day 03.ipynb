{
 "cells": [
  {
   "cell_type": "code",
   "execution_count": 1,
   "id": "c82bdaf8",
   "metadata": {},
   "outputs": [],
   "source": [
    "import numpy as np"
   ]
  },
  {
   "cell_type": "code",
   "execution_count": 2,
   "id": "b5fca7af",
   "metadata": {},
   "outputs": [
    {
     "name": "stdout",
     "output_type": "stream",
     "text": [
      "[[51 87 14]\n",
      " [33 21  6]\n",
      " [ 9 78 88]]\n"
     ]
    }
   ],
   "source": [
    "matrix = np.matrix([[51,87,14],[33,21,6],[9,78,88]])\n",
    "print(matrix)"
   ]
  },
  {
   "cell_type": "markdown",
   "id": "bb39bf25",
   "metadata": {},
   "source": [
    "# Linear Algebra Operation perform on Matrix"
   ]
  },
  {
   "cell_type": "markdown",
   "id": "88fd97a1",
   "metadata": {},
   "source": [
    "# 1. Transpose of matrix"
   ]
  },
  {
   "cell_type": "code",
   "execution_count": 4,
   "id": "c6d8a991",
   "metadata": {},
   "outputs": [
    {
     "name": "stdout",
     "output_type": "stream",
     "text": [
      "[[51 33  9]\n",
      " [87 21 78]\n",
      " [14  6 88]]\n"
     ]
    }
   ],
   "source": [
    "# Transpose of a Matrix\n",
    "#swap all the value of row and columns without changing diagonal element.\n",
    "print(matrix.T)"
   ]
  },
  {
   "cell_type": "markdown",
   "id": "2fdf28d4",
   "metadata": {},
   "source": [
    "# 2. Determinant and Rank"
   ]
  },
  {
   "cell_type": "code",
   "execution_count": 5,
   "id": "3ed3b10f",
   "metadata": {},
   "outputs": [
    {
     "data": {
      "text/plain": [
       "matrix([[51, 87, 14],\n",
       "        [33, 21,  6],\n",
       "        [ 9, 78, 88]])"
      ]
     },
     "execution_count": 5,
     "metadata": {},
     "output_type": "execute_result"
    }
   ],
   "source": [
    "matrix"
   ]
  },
  {
   "cell_type": "code",
   "execution_count": 6,
   "id": "096b4fc3",
   "metadata": {},
   "outputs": [
    {
     "name": "stdout",
     "output_type": "stream",
     "text": [
      "-144180.00000000006\n"
     ]
    }
   ],
   "source": [
    "print(np.linalg.det(matrix))"
   ]
  },
  {
   "cell_type": "markdown",
   "id": "eef4ca44",
   "metadata": {},
   "source": [
    "# 3. Rank of a matrix"
   ]
  },
  {
   "cell_type": "code",
   "execution_count": 7,
   "id": "439e8e5b",
   "metadata": {},
   "outputs": [
    {
     "name": "stdout",
     "output_type": "stream",
     "text": [
      "3\n"
     ]
    }
   ],
   "source": [
    "print(np.linalg.matrix_rank(matrix))"
   ]
  },
  {
   "cell_type": "markdown",
   "id": "3894795a",
   "metadata": {},
   "source": [
    "# 4. Diagonal"
   ]
  },
  {
   "cell_type": "code",
   "execution_count": 11,
   "id": "bd1747a3",
   "metadata": {},
   "outputs": [
    {
     "data": {
      "text/plain": [
       "matrix([[51, 87, 14],\n",
       "        [33, 21,  6],\n",
       "        [ 9, 78, 88]])"
      ]
     },
     "execution_count": 11,
     "metadata": {},
     "output_type": "execute_result"
    }
   ],
   "source": [
    "matrix"
   ]
  },
  {
   "cell_type": "code",
   "execution_count": 8,
   "id": "286fc61f",
   "metadata": {},
   "outputs": [
    {
     "data": {
      "text/plain": [
       "matrix([[51, 21, 88]])"
      ]
     },
     "execution_count": 8,
     "metadata": {},
     "output_type": "execute_result"
    }
   ],
   "source": [
    "matrix.diagonal()"
   ]
  },
  {
   "cell_type": "code",
   "execution_count": null,
   "id": "72a76a98",
   "metadata": {},
   "outputs": [],
   "source": [
    "matrix.diagonal?"
   ]
  },
  {
   "cell_type": "code",
   "execution_count": 13,
   "id": "1efb4b78",
   "metadata": {},
   "outputs": [
    {
     "data": {
      "text/plain": [
       "matrix([[87,  6]])"
      ]
     },
     "execution_count": 13,
     "metadata": {},
     "output_type": "execute_result"
    }
   ],
   "source": [
    "matrix.diagonal(offset = 1)"
   ]
  },
  {
   "cell_type": "code",
   "execution_count": 10,
   "id": "274394cc",
   "metadata": {},
   "outputs": [
    {
     "data": {
      "text/plain": [
       "matrix([[33, 78]])"
      ]
     },
     "execution_count": 10,
     "metadata": {},
     "output_type": "execute_result"
    }
   ],
   "source": [
    "matrix.diagonal(offset = -1)"
   ]
  },
  {
   "cell_type": "markdown",
   "id": "5b48b6bd",
   "metadata": {},
   "source": [
    "# 5. Trace"
   ]
  },
  {
   "cell_type": "code",
   "execution_count": 14,
   "id": "45f78003",
   "metadata": {},
   "outputs": [
    {
     "data": {
      "text/plain": [
       "matrix([[51, 87, 14],\n",
       "        [33, 21,  6],\n",
       "        [ 9, 78, 88]])"
      ]
     },
     "execution_count": 14,
     "metadata": {},
     "output_type": "execute_result"
    }
   ],
   "source": [
    "matrix"
   ]
  },
  {
   "cell_type": "code",
   "execution_count": 15,
   "id": "145270ad",
   "metadata": {},
   "outputs": [
    {
     "data": {
      "text/plain": [
       "matrix([[160]])"
      ]
     },
     "execution_count": 15,
     "metadata": {},
     "output_type": "execute_result"
    }
   ],
   "source": [
    "# trace --> print the sum of diagonal values\n",
    "matrix.trace()\n"
   ]
  },
  {
   "cell_type": "markdown",
   "id": "ed36d831",
   "metadata": {},
   "source": [
    "# 6. Dot product"
   ]
  },
  {
   "cell_type": "code",
   "execution_count": 16,
   "id": "71f9fe06",
   "metadata": {},
   "outputs": [
    {
     "name": "stdout",
     "output_type": "stream",
     "text": [
      "[[51 87 14]\n",
      " [33 21  6]\n",
      " [ 9 78 88]]\n",
      "[[51 87 14]\n",
      " [33 21  6]\n",
      " [ 9 78 88]]\n"
     ]
    }
   ],
   "source": [
    "matrix1 = np.matrix([[51,87,14],[33,21,6],[9,78,88]])\n",
    "matrix2 = np.matrix([[51,87,14],[33,21,6],[9,78,88]])\n",
    "print(matrix1)\n",
    "print(matrix2)"
   ]
  },
  {
   "cell_type": "code",
   "execution_count": 17,
   "id": "de8f4fce",
   "metadata": {},
   "outputs": [
    {
     "name": "stdout",
     "output_type": "stream",
     "text": [
      "[[5598 7356 2468]\n",
      " [2430 3780 1116]\n",
      " [3825 9285 8338]]\n"
     ]
    }
   ],
   "source": [
    "print(np.dot(matrix1, matrix2))"
   ]
  },
  {
   "cell_type": "code",
   "execution_count": 18,
   "id": "c72b7dc4",
   "metadata": {},
   "outputs": [
    {
     "name": "stdout",
     "output_type": "stream",
     "text": [
      "[[5598 7356 2468]\n",
      " [2430 3780 1116]\n",
      " [3825 9285 8338]]\n"
     ]
    }
   ],
   "source": [
    "print(matrix1 * matrix2)"
   ]
  },
  {
   "cell_type": "code",
   "execution_count": 19,
   "id": "4eb0637a",
   "metadata": {},
   "outputs": [
    {
     "name": "stdout",
     "output_type": "stream",
     "text": [
      "[[102 174  28]\n",
      " [ 66  42  12]\n",
      " [ 18 156 176]]\n"
     ]
    }
   ],
   "source": [
    "print(np.add(matrix1, matrix2))"
   ]
  },
  {
   "cell_type": "code",
   "execution_count": 20,
   "id": "05d8bf49",
   "metadata": {},
   "outputs": [
    {
     "name": "stdout",
     "output_type": "stream",
     "text": [
      "[[0 0 0]\n",
      " [0 0 0]\n",
      " [0 0 0]]\n"
     ]
    }
   ],
   "source": [
    "print(np.subtract(matrix1, matrix2))"
   ]
  },
  {
   "cell_type": "markdown",
   "id": "95cca72f",
   "metadata": {},
   "source": [
    "# 7. Random values"
   ]
  },
  {
   "cell_type": "code",
   "execution_count": 22,
   "id": "392d50ef",
   "metadata": {},
   "outputs": [
    {
     "data": {
      "text/plain": [
       "array([ 6,  1, 10])"
      ]
     },
     "execution_count": 22,
     "metadata": {},
     "output_type": "execute_result"
    }
   ],
   "source": [
    "np.random.randint(0,11,3)"
   ]
  },
  {
   "cell_type": "code",
   "execution_count": 23,
   "id": "d9f27905",
   "metadata": {},
   "outputs": [
    {
     "data": {
      "text/plain": [
       "array([[ 8,  4,  6],\n",
       "       [ 0,  7,  0],\n",
       "       [ 3, 10,  2]])"
      ]
     },
     "execution_count": 23,
     "metadata": {},
     "output_type": "execute_result"
    }
   ],
   "source": [
    "np.random.randint(0,11,9).reshape(3,3)"
   ]
  },
  {
   "cell_type": "code",
   "execution_count": 25,
   "id": "5fe83d2f",
   "metadata": {},
   "outputs": [
    {
     "data": {
      "text/plain": [
       "array([3, 6, 6])"
      ]
     },
     "execution_count": 25,
     "metadata": {},
     "output_type": "execute_result"
    }
   ],
   "source": [
    "np.random.seed(5)\n",
    "np.random.randint(0,11,3)"
   ]
  },
  {
   "cell_type": "markdown",
   "id": "42a0a50c",
   "metadata": {},
   "source": [
    "# 8. Normal distribution"
   ]
  },
  {
   "cell_type": "code",
   "execution_count": 26,
   "id": "7e2583a4",
   "metadata": {},
   "outputs": [
    {
     "data": {
      "text/plain": [
       "array([ 0.95339251,  2.68355533,  3.73517105,  2.14941538, -2.77152482,\n",
       "        1.34185074,  0.19381338,  4.27525698, -0.2105957 , -2.18883015])"
      ]
     },
     "execution_count": 26,
     "metadata": {},
     "output_type": "execute_result"
    }
   ],
   "source": [
    "\n",
    "#                mean  std total number\n",
    "np.random.normal(1.0, 2.0, 10)"
   ]
  },
  {
   "cell_type": "code",
   "execution_count": 27,
   "id": "adfe64ef",
   "metadata": {},
   "outputs": [
    {
     "data": {
      "text/plain": [
       "array([ 9.10343139, -1.49728699, 13.20998074, 11.55931306,  0.90383832])"
      ]
     },
     "execution_count": 27,
     "metadata": {},
     "output_type": "execute_result"
    }
   ],
   "source": [
    "np.random.normal(5.0, 4.5, 5)"
   ]
  },
  {
   "cell_type": "code",
   "execution_count": 28,
   "id": "e7aad6c6",
   "metadata": {},
   "outputs": [
    {
     "data": {
      "text/plain": [
       "array([[-0.98003789, -0.63509625, -1.33655895,  0.57844071,  0.55140067],\n",
       "       [ 2.30245691, -0.92552397,  5.47748589,  1.49557076,  1.65279226]])"
      ]
     },
     "execution_count": 28,
     "metadata": {},
     "output_type": "execute_result"
    }
   ],
   "source": [
    "np.random.normal(1.0, 2.0, 10).reshape(2,5)"
   ]
  },
  {
   "cell_type": "code",
   "execution_count": null,
   "id": "b4155274",
   "metadata": {},
   "outputs": [],
   "source": []
  }
 ],
 "metadata": {
  "kernelspec": {
   "display_name": "Python 3 (ipykernel)",
   "language": "python",
   "name": "python3"
  },
  "language_info": {
   "codemirror_mode": {
    "name": "ipython",
    "version": 3
   },
   "file_extension": ".py",
   "mimetype": "text/x-python",
   "name": "python",
   "nbconvert_exporter": "python",
   "pygments_lexer": "ipython3",
   "version": "3.9.7"
  }
 },
 "nbformat": 4,
 "nbformat_minor": 5
}
