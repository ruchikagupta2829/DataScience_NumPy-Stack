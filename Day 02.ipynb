{
 "cells": [
  {
   "cell_type": "markdown",
   "id": "36807586",
   "metadata": {},
   "source": [
    "# Selecting element\n",
    "\n",
    "How to select any element in a Array or matrix. "
   ]
  },
  {
   "cell_type": "code",
   "execution_count": 1,
   "id": "58e5d049",
   "metadata": {},
   "outputs": [],
   "source": [
    "import numpy as np"
   ]
  },
  {
   "cell_type": "code",
   "execution_count": 2,
   "id": "45aa308f",
   "metadata": {},
   "outputs": [
    {
     "name": "stdout",
     "output_type": "stream",
     "text": [
      "1\n"
     ]
    }
   ],
   "source": [
    "v = np.array([1,2,3,4,5,6,7,8,9])\n",
    "print(v[0])\n"
   ]
  },
  {
   "cell_type": "markdown",
   "id": "af4909b0",
   "metadata": {},
   "source": [
    "# Slicing \n",
    "Slicing in 1-D array"
   ]
  },
  {
   "cell_type": "code",
   "execution_count": 3,
   "id": "833eee89",
   "metadata": {},
   "outputs": [
    {
     "data": {
      "text/plain": [
       "array([1, 2, 3, 4, 5, 6, 7, 8, 9])"
      ]
     },
     "execution_count": 3,
     "metadata": {},
     "output_type": "execute_result"
    }
   ],
   "source": [
    "##  colon(:) used for starting and ending element.\n",
    "v[:]\n"
   ]
  },
  {
   "cell_type": "code",
   "execution_count": 4,
   "id": "aa5dcbc9",
   "metadata": {},
   "outputs": [
    {
     "data": {
      "text/plain": [
       "array([4, 5, 6])"
      ]
     },
     "execution_count": 4,
     "metadata": {},
     "output_type": "execute_result"
    }
   ],
   "source": [
    "v[3:6]"
   ]
  },
  {
   "cell_type": "code",
   "execution_count": 5,
   "id": "199ba345",
   "metadata": {},
   "outputs": [
    {
     "data": {
      "text/plain": [
       "9"
      ]
     },
     "execution_count": 5,
     "metadata": {},
     "output_type": "execute_result"
    }
   ],
   "source": [
    "v[-1]"
   ]
  },
  {
   "cell_type": "markdown",
   "id": "36bcf6ed",
   "metadata": {},
   "source": [
    "# Slicing in a matrix"
   ]
  },
  {
   "cell_type": "code",
   "execution_count": 7,
   "id": "3beab4e6",
   "metadata": {},
   "outputs": [
    {
     "name": "stdout",
     "output_type": "stream",
     "text": [
      "[[15 20 45]\n",
      " [56 89 70]\n",
      " [32 12 54]]\n"
     ]
    }
   ],
   "source": [
    "matrix = np.array([[15,20,45],[56,89,70],[32,12,54]])\n",
    "print(matrix)"
   ]
  },
  {
   "cell_type": "markdown",
   "id": "c2d97359",
   "metadata": {},
   "source": [
    "# comma(,) is used for slicing in the form of row and columns in a matrix.\n",
    "[row,column]"
   ]
  },
  {
   "cell_type": "code",
   "execution_count": 8,
   "id": "19a1bc0d",
   "metadata": {},
   "outputs": [
    {
     "data": {
      "text/plain": [
       "15"
      ]
     },
     "execution_count": 8,
     "metadata": {},
     "output_type": "execute_result"
    }
   ],
   "source": [
    "matrix[0,0]"
   ]
  },
  {
   "cell_type": "code",
   "execution_count": 9,
   "id": "92bb956f",
   "metadata": {},
   "outputs": [
    {
     "data": {
      "text/plain": [
       "89"
      ]
     },
     "execution_count": 9,
     "metadata": {},
     "output_type": "execute_result"
    }
   ],
   "source": [
    "matrix[1,1]"
   ]
  },
  {
   "cell_type": "code",
   "execution_count": 10,
   "id": "b7a5b5c4",
   "metadata": {},
   "outputs": [
    {
     "data": {
      "text/plain": [
       "54"
      ]
     },
     "execution_count": 10,
     "metadata": {},
     "output_type": "execute_result"
    }
   ],
   "source": [
    "matrix[2,2]"
   ]
  },
  {
   "cell_type": "markdown",
   "id": "03121c55",
   "metadata": {},
   "source": [
    "# slicing on rows"
   ]
  },
  {
   "cell_type": "code",
   "execution_count": 11,
   "id": "c8b1ff1a",
   "metadata": {},
   "outputs": [
    {
     "data": {
      "text/plain": [
       "array([[15, 20],\n",
       "       [56, 89],\n",
       "       [32, 12]])"
      ]
     },
     "execution_count": 11,
     "metadata": {},
     "output_type": "execute_result"
    }
   ],
   "source": [
    "matrix [ :3, :2]"
   ]
  },
  {
   "cell_type": "code",
   "execution_count": 12,
   "id": "c45b17ff",
   "metadata": {},
   "outputs": [
    {
     "data": {
      "text/plain": [
       "array([[15],\n",
       "       [56]])"
      ]
     },
     "execution_count": 12,
     "metadata": {},
     "output_type": "execute_result"
    }
   ],
   "source": [
    "matrix[0:2, 0:1]"
   ]
  },
  {
   "cell_type": "code",
   "execution_count": 13,
   "id": "55c3c174",
   "metadata": {},
   "outputs": [
    {
     "data": {
      "text/plain": [
       "array([[15]])"
      ]
     },
     "execution_count": 13,
     "metadata": {},
     "output_type": "execute_result"
    }
   ],
   "source": [
    "matrix[0:1, 0:1]"
   ]
  },
  {
   "cell_type": "code",
   "execution_count": 14,
   "id": "0230b7da",
   "metadata": {},
   "outputs": [
    {
     "name": "stdout",
     "output_type": "stream",
     "text": [
      "[[15 20 45]\n",
      " [56 89 70]\n",
      " [32 12 54]]\n"
     ]
    }
   ],
   "source": [
    "print(matrix[:  , 0:])"
   ]
  },
  {
   "cell_type": "code",
   "execution_count": 15,
   "id": "3ee7c223",
   "metadata": {},
   "outputs": [
    {
     "name": "stdout",
     "output_type": "stream",
     "text": [
      "[[89]]\n"
     ]
    }
   ],
   "source": [
    "print(matrix[1:2, 1:2])"
   ]
  },
  {
   "cell_type": "code",
   "execution_count": 16,
   "id": "62bc8c07",
   "metadata": {},
   "outputs": [
    {
     "name": "stdout",
     "output_type": "stream",
     "text": [
      "[[20]\n",
      " [89]\n",
      " [12]]\n"
     ]
    }
   ],
   "source": [
    "print(matrix[:, 1:2])"
   ]
  },
  {
   "cell_type": "code",
   "execution_count": 17,
   "id": "02584af1",
   "metadata": {},
   "outputs": [
    {
     "name": "stdout",
     "output_type": "stream",
     "text": [
      "[[45]\n",
      " [70]\n",
      " [54]]\n"
     ]
    }
   ],
   "source": [
    "print(matrix[: , 2:3])"
   ]
  },
  {
   "cell_type": "code",
   "execution_count": 18,
   "id": "635726d9",
   "metadata": {},
   "outputs": [
    {
     "data": {
      "text/plain": [
       "array([], shape=(3, 0), dtype=int32)"
      ]
     },
     "execution_count": 18,
     "metadata": {},
     "output_type": "execute_result"
    }
   ],
   "source": [
    "matrix[: , 3:2]"
   ]
  },
  {
   "cell_type": "code",
   "execution_count": 21,
   "id": "028dc6a0",
   "metadata": {},
   "outputs": [
    {
     "name": "stdout",
     "output_type": "stream",
     "text": [
      "[[45]\n",
      " [54]]\n"
     ]
    }
   ],
   "source": [
    "# matrix with steps \n",
    "\n",
    "print(matrix[0:3:2 , 2:3:2])"
   ]
  },
  {
   "cell_type": "code",
   "execution_count": 22,
   "id": "3c08915e",
   "metadata": {},
   "outputs": [
    {
     "data": {
      "text/plain": [
       "array([[15],\n",
       "       [56]])"
      ]
     },
     "execution_count": 22,
     "metadata": {},
     "output_type": "execute_result"
    }
   ],
   "source": [
    "matrix[-3:-1, -3:-2]"
   ]
  },
  {
   "cell_type": "code",
   "execution_count": 23,
   "id": "87ffb899",
   "metadata": {},
   "outputs": [
    {
     "data": {
      "text/plain": [
       "array([], shape=(0, 0), dtype=int32)"
      ]
     },
     "execution_count": 23,
     "metadata": {},
     "output_type": "execute_result"
    }
   ],
   "source": [
    "matrix[-2:0:1, -2:0:1]"
   ]
  },
  {
   "cell_type": "markdown",
   "id": "5a6db256",
   "metadata": {},
   "source": [
    "# Describe a Matrix"
   ]
  },
  {
   "cell_type": "code",
   "execution_count": 24,
   "id": "d7f3e341",
   "metadata": {},
   "outputs": [
    {
     "name": "stdout",
     "output_type": "stream",
     "text": [
      "[[15 20 45]\n",
      " [56 89 70]\n",
      " [32 12 54]]\n"
     ]
    }
   ],
   "source": [
    "matrix = np.array([[15,20,45],[56,89,70],[32,12,54]])\n",
    "print(matrix)"
   ]
  },
  {
   "cell_type": "markdown",
   "id": "6d090967",
   "metadata": {},
   "source": [
    "# some properties to describe a matrix"
   ]
  },
  {
   "cell_type": "code",
   "execution_count": 25,
   "id": "b443c68a",
   "metadata": {},
   "outputs": [
    {
     "data": {
      "text/plain": [
       "(3, 3)"
      ]
     },
     "execution_count": 25,
     "metadata": {},
     "output_type": "execute_result"
    }
   ],
   "source": [
    "# parenthesis() not allow in this method and return values  in a tuple form.\n",
    "matrix.shape"
   ]
  },
  {
   "cell_type": "code",
   "execution_count": 26,
   "id": "3f1671fe",
   "metadata": {},
   "outputs": [
    {
     "data": {
      "text/plain": [
       "9"
      ]
     },
     "execution_count": 26,
     "metadata": {},
     "output_type": "execute_result"
    }
   ],
   "source": [
    "# size - return numbers of values.\n",
    "matrix.size"
   ]
  },
  {
   "cell_type": "code",
   "execution_count": 27,
   "id": "b7d203d8",
   "metadata": {},
   "outputs": [
    {
     "data": {
      "text/plain": [
       "2"
      ]
     },
     "execution_count": 27,
     "metadata": {},
     "output_type": "execute_result"
    }
   ],
   "source": [
    "# ndim - how many dimension\n",
    "matrix.ndim"
   ]
  },
  {
   "cell_type": "markdown",
   "id": "584cde9f",
   "metadata": {},
   "source": [
    "# Find max and min values in a matrix"
   ]
  },
  {
   "cell_type": "code",
   "execution_count": 28,
   "id": "d4d4775a",
   "metadata": {},
   "outputs": [
    {
     "name": "stdout",
     "output_type": "stream",
     "text": [
      "89\n"
     ]
    }
   ],
   "source": [
    "print(np.max(matrix))"
   ]
  },
  {
   "cell_type": "code",
   "execution_count": 29,
   "id": "600eb07a",
   "metadata": {},
   "outputs": [
    {
     "name": "stdout",
     "output_type": "stream",
     "text": [
      "12\n"
     ]
    }
   ],
   "source": [
    "print(np.min(matrix))"
   ]
  },
  {
   "cell_type": "code",
   "execution_count": 30,
   "id": "952cd958",
   "metadata": {},
   "outputs": [
    {
     "data": {
      "text/plain": [
       "array([[15, 20, 45],\n",
       "       [56, 89, 70],\n",
       "       [32, 12, 54]])"
      ]
     },
     "execution_count": 30,
     "metadata": {},
     "output_type": "execute_result"
    }
   ],
   "source": [
    "matrix"
   ]
  },
  {
   "cell_type": "code",
   "execution_count": 31,
   "id": "0e6595ff",
   "metadata": {},
   "outputs": [
    {
     "name": "stdout",
     "output_type": "stream",
     "text": [
      "[45 89 54]\n"
     ]
    }
   ],
   "source": [
    "# row and columns wise max values then use axis.\n",
    "print(np.max(matrix, axis=1))"
   ]
  },
  {
   "cell_type": "code",
   "execution_count": 32,
   "id": "26c9471e",
   "metadata": {},
   "outputs": [
    {
     "name": "stdout",
     "output_type": "stream",
     "text": [
      "[56 89 70]\n"
     ]
    }
   ],
   "source": [
    "print(np.max(matrix, axis=0))"
   ]
  },
  {
   "cell_type": "code",
   "execution_count": 34,
   "id": "d3f7f7b3",
   "metadata": {},
   "outputs": [
    {
     "name": "stdout",
     "output_type": "stream",
     "text": [
      "54\n"
     ]
    }
   ],
   "source": [
    "print(np.max(matrix, axis = 1)[2])"
   ]
  },
  {
   "cell_type": "code",
   "execution_count": 39,
   "id": "66b460dc",
   "metadata": {},
   "outputs": [
    {
     "name": "stdout",
     "output_type": "stream",
     "text": [
      "89\n"
     ]
    }
   ],
   "source": [
    "print(np.max(matrix, axis = 1)[1])"
   ]
  },
  {
   "cell_type": "code",
   "execution_count": 43,
   "id": "755fefd5",
   "metadata": {},
   "outputs": [
    {
     "data": {
      "text/plain": [
       "(15, [1, 1], [2, 1])"
      ]
     },
     "execution_count": 43,
     "metadata": {},
     "output_type": "execute_result"
    }
   ],
   "source": [
    "matrix[0,0],[1,1],[2,1]"
   ]
  },
  {
   "cell_type": "markdown",
   "id": "74a08746",
   "metadata": {},
   "source": [
    "# Basic matrix statistics - Mean, Variance, Standard deviation "
   ]
  },
  {
   "cell_type": "code",
   "execution_count": 44,
   "id": "a3e2b697",
   "metadata": {},
   "outputs": [
    {
     "data": {
      "text/plain": [
       "array([[15, 20, 45],\n",
       "       [56, 89, 70],\n",
       "       [32, 12, 54]])"
      ]
     },
     "execution_count": 44,
     "metadata": {},
     "output_type": "execute_result"
    }
   ],
   "source": [
    "matrix"
   ]
  },
  {
   "cell_type": "code",
   "execution_count": 45,
   "id": "7c7a0287",
   "metadata": {},
   "outputs": [
    {
     "name": "stdout",
     "output_type": "stream",
     "text": [
      "43.666666666666664\n"
     ]
    }
   ],
   "source": [
    "print(np.mean(matrix))"
   ]
  },
  {
   "cell_type": "code",
   "execution_count": 46,
   "id": "753d7a52",
   "metadata": {},
   "outputs": [
    {
     "name": "stdout",
     "output_type": "stream",
     "text": [
      "614.4444444444445\n"
     ]
    }
   ],
   "source": [
    "print(np.var(matrix))"
   ]
  },
  {
   "cell_type": "code",
   "execution_count": 47,
   "id": "1b09cba5",
   "metadata": {},
   "outputs": [
    {
     "name": "stdout",
     "output_type": "stream",
     "text": [
      "24.78798992343761\n"
     ]
    }
   ],
   "source": [
    "print(np.std(matrix))"
   ]
  },
  {
   "cell_type": "markdown",
   "id": "f62f9e90",
   "metadata": {},
   "source": [
    "# Reshaping Array\n"
   ]
  },
  {
   "cell_type": "code",
   "execution_count": 48,
   "id": "896695f2",
   "metadata": {},
   "outputs": [
    {
     "data": {
      "text/plain": [
       "array([[15, 20, 45],\n",
       "       [56, 89, 70],\n",
       "       [32, 12, 54]])"
      ]
     },
     "execution_count": 48,
     "metadata": {},
     "output_type": "execute_result"
    }
   ],
   "source": [
    "matrix"
   ]
  },
  {
   "cell_type": "code",
   "execution_count": 49,
   "id": "dbbdef5b",
   "metadata": {},
   "outputs": [
    {
     "name": "stdout",
     "output_type": "stream",
     "text": [
      "[15 20 45 56 89 70 32 12 54]\n"
     ]
    }
   ],
   "source": [
    "print(matrix.reshape(9))"
   ]
  },
  {
   "cell_type": "code",
   "execution_count": 53,
   "id": "ad63bed8",
   "metadata": {},
   "outputs": [
    {
     "name": "stdout",
     "output_type": "stream",
     "text": [
      "[[15]\n",
      " [20]\n",
      " [45]\n",
      " [56]\n",
      " [89]\n",
      " [70]\n",
      " [32]\n",
      " [12]\n",
      " [54]]\n"
     ]
    }
   ],
   "source": [
    "print(matrix.reshape(9,1))"
   ]
  },
  {
   "cell_type": "code",
   "execution_count": 57,
   "id": "a1b73ec0",
   "metadata": {},
   "outputs": [
    {
     "name": "stdout",
     "output_type": "stream",
     "text": [
      "[[15 20 45 56 89 70 32 12 54]]\n"
     ]
    }
   ],
   "source": [
    "print(matrix.reshape(1,-1))"
   ]
  },
  {
   "cell_type": "code",
   "execution_count": null,
   "id": "8c154e7c",
   "metadata": {},
   "outputs": [],
   "source": [
    "# flatten function - this function change any dimension in a single row. "
   ]
  },
  {
   "cell_type": "code",
   "execution_count": 58,
   "id": "2861c7e8",
   "metadata": {},
   "outputs": [
    {
     "name": "stdout",
     "output_type": "stream",
     "text": [
      "[15 20 45 56 89 70 32 12 54]\n"
     ]
    }
   ],
   "source": [
    "print(matrix.flatten())"
   ]
  },
  {
   "cell_type": "code",
   "execution_count": null,
   "id": "bff15078",
   "metadata": {},
   "outputs": [],
   "source": []
  }
 ],
 "metadata": {
  "kernelspec": {
   "display_name": "Python 3 (ipykernel)",
   "language": "python",
   "name": "python3"
  },
  "language_info": {
   "codemirror_mode": {
    "name": "ipython",
    "version": 3
   },
   "file_extension": ".py",
   "mimetype": "text/x-python",
   "name": "python",
   "nbconvert_exporter": "python",
   "pygments_lexer": "ipython3",
   "version": "3.9.7"
  }
 },
 "nbformat": 4,
 "nbformat_minor": 5
}
