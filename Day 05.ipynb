{
 "cells": [
  {
   "cell_type": "markdown",
   "id": "cc63488b",
   "metadata": {},
   "source": [
    "# Accessing element of 1-D array"
   ]
  },
  {
   "cell_type": "markdown",
   "id": "e272231b",
   "metadata": {},
   "source": [
    "Functions for 1-D array"
   ]
  },
  {
   "cell_type": "code",
   "execution_count": 1,
   "id": "6e72a226",
   "metadata": {},
   "outputs": [],
   "source": [
    "import numpy as np"
   ]
  },
  {
   "cell_type": "code",
   "execution_count": 2,
   "id": "9ae96657",
   "metadata": {},
   "outputs": [
    {
     "name": "stdout",
     "output_type": "stream",
     "text": [
      "original array :  [24 13 56 11 28 57 10 40]\n"
     ]
    }
   ],
   "source": [
    "myarray = np.array([24,13,56,11,28,57,10,40], int)\n",
    "print(\"original array : \", myarray)"
   ]
  },
  {
   "cell_type": "markdown",
   "id": "5324b5b7",
   "metadata": {},
   "source": [
    "# modifying an element at a specified index"
   ]
  },
  {
   "cell_type": "code",
   "execution_count": 3,
   "id": "83b4081b",
   "metadata": {},
   "outputs": [
    {
     "name": "stdout",
     "output_type": "stream",
     "text": [
      "modified array : [24 13 56 45 28 57 10 40]\n"
     ]
    }
   ],
   "source": [
    "myarray[3]  = 45\n",
    "print(\"modified array :\", myarray)"
   ]
  },
  {
   "cell_type": "markdown",
   "id": "bde1e576",
   "metadata": {},
   "source": [
    "# Determnine the characteristics of an array"
   ]
  },
  {
   "cell_type": "code",
   "execution_count": 4,
   "id": "4cc5dfc1",
   "metadata": {},
   "outputs": [
    {
     "name": "stdout",
     "output_type": "stream",
     "text": [
      "size of the array :  8\n"
     ]
    }
   ],
   "source": [
    "print(\"size of the array : \", myarray.size)"
   ]
  },
  {
   "cell_type": "code",
   "execution_count": 5,
   "id": "76bc4370",
   "metadata": {},
   "outputs": [
    {
     "name": "stdout",
     "output_type": "stream",
     "text": [
      "Data type of the array :  int32\n"
     ]
    }
   ],
   "source": [
    "print(\"Data type of the array : \", myarray.dtype)"
   ]
  },
  {
   "cell_type": "code",
   "execution_count": 6,
   "id": "3bb37174",
   "metadata": {},
   "outputs": [
    {
     "name": "stdout",
     "output_type": "stream",
     "text": [
      "Mean of the array :  34.125\n"
     ]
    }
   ],
   "source": [
    "print(\"Mean of the array : \", np.mean(myarray))"
   ]
  },
  {
   "cell_type": "code",
   "execution_count": 7,
   "id": "abb1a3da",
   "metadata": {},
   "outputs": [
    {
     "name": "stdout",
     "output_type": "stream",
     "text": [
      "Median of the array :  34.0\n"
     ]
    }
   ],
   "source": [
    "print(\"Median of the array : \", np.median(myarray))"
   ]
  },
  {
   "cell_type": "code",
   "execution_count": 8,
   "id": "3b2f0640",
   "metadata": {},
   "outputs": [
    {
     "name": "stdout",
     "output_type": "stream",
     "text": [
      "Minimum of the array :  10\n"
     ]
    }
   ],
   "source": [
    "print(\"Minimum of the array : \", np.min(myarray))"
   ]
  },
  {
   "cell_type": "code",
   "execution_count": 9,
   "id": "c51c2d33",
   "metadata": {},
   "outputs": [
    {
     "name": "stdout",
     "output_type": "stream",
     "text": [
      "Maximum of the array :  57\n"
     ]
    }
   ],
   "source": [
    "print(\"Maximum of the array : \", np.max(myarray))"
   ]
  },
  {
   "cell_type": "code",
   "execution_count": 10,
   "id": "2da7bd63",
   "metadata": {},
   "outputs": [
    {
     "name": "stdout",
     "output_type": "stream",
     "text": [
      "Sum of the array :  273\n"
     ]
    }
   ],
   "source": [
    "print(\"Sum of the array : \", np.sum(myarray))"
   ]
  },
  {
   "cell_type": "code",
   "execution_count": 11,
   "id": "f97da941",
   "metadata": {},
   "outputs": [
    {
     "name": "stdout",
     "output_type": "stream",
     "text": [
      "product of the array :  -575557632\n"
     ]
    }
   ],
   "source": [
    "print(\"product of the array : \", np.prod(myarray))"
   ]
  },
  {
   "cell_type": "code",
   "execution_count": 12,
   "id": "aed259f8",
   "metadata": {},
   "outputs": [
    {
     "name": "stdout",
     "output_type": "stream",
     "text": [
      "Covariance of the array :  331.8392857142857\n"
     ]
    }
   ],
   "source": [
    "print(\"Covariance of the array : \", np.cov(myarray))"
   ]
  },
  {
   "cell_type": "code",
   "execution_count": 13,
   "id": "c8e14a54",
   "metadata": {},
   "outputs": [
    {
     "name": "stdout",
     "output_type": "stream",
     "text": [
      "variance of the array :  290.359375\n"
     ]
    }
   ],
   "source": [
    "print(\"variance of the array : \", np.var(myarray))"
   ]
  },
  {
   "cell_type": "code",
   "execution_count": 14,
   "id": "cc97c878",
   "metadata": {},
   "outputs": [
    {
     "name": "stdout",
     "output_type": "stream",
     "text": [
      "standard deviation of the array :  17.039934712316242\n"
     ]
    }
   ],
   "source": [
    "print(\"standard deviation of the array : \", np.std(myarray))"
   ]
  },
  {
   "cell_type": "markdown",
   "id": "206a0206",
   "metadata": {},
   "source": [
    "# Some Mathematical functions "
   ]
  },
  {
   "cell_type": "code",
   "execution_count": 15,
   "id": "5073ceae",
   "metadata": {},
   "outputs": [
    {
     "name": "stdout",
     "output_type": "stream",
     "text": [
      "Sort of the array :  [10 13 24 28 40 45 56 57]\n"
     ]
    }
   ],
   "source": [
    "print(\"Sort of the array : \", np.sort(myarray))"
   ]
  },
  {
   "cell_type": "code",
   "execution_count": 17,
   "id": "0cf64f52",
   "metadata": {},
   "outputs": [
    {
     "name": "stdout",
     "output_type": "stream",
     "text": [
      "Power of the array :  [ 576  169 3136 2025  784 3249  100 1600]\n"
     ]
    }
   ],
   "source": [
    "print(\"Power of the array : \", np.power(myarray, 2))"
   ]
  },
  {
   "cell_type": "code",
   "execution_count": 18,
   "id": "f842a953",
   "metadata": {},
   "outputs": [
    {
     "name": "stdout",
     "output_type": "stream",
     "text": [
      "Square root of the array :  [4.89897949 3.60555128 7.48331477 6.70820393 5.29150262 7.54983444\n",
      " 3.16227766 6.32455532]\n"
     ]
    }
   ],
   "source": [
    "print(\"Square root of the array : \", np.sqrt(myarray))"
   ]
  },
  {
   "cell_type": "code",
   "execution_count": 19,
   "id": "bd0d032e",
   "metadata": {},
   "outputs": [
    {
     "name": "stdout",
     "output_type": "stream",
     "text": [
      "Absolute of the array :  [24 13 56 45 28 57 10 40]\n"
     ]
    }
   ],
   "source": [
    "print(\"Absolute of the array : \", np.abs(myarray))"
   ]
  },
  {
   "cell_type": "markdown",
   "id": "6503bf4f",
   "metadata": {},
   "source": [
    "# Some Trigonometric functions"
   ]
  },
  {
   "cell_type": "code",
   "execution_count": 20,
   "id": "5c7bf11f",
   "metadata": {},
   "outputs": [
    {
     "name": "stdout",
     "output_type": "stream",
     "text": [
      "sine value of the array :  [-0.90557836  0.42016704 -0.521551    0.85090352  0.27090579  0.43616476\n",
      " -0.54402111  0.74511316]\n"
     ]
    }
   ],
   "source": [
    "print(\"sine value of the array : \", np.sin(myarray))"
   ]
  },
  {
   "cell_type": "code",
   "execution_count": 21,
   "id": "41682327",
   "metadata": {},
   "outputs": [
    {
     "name": "stdout",
     "output_type": "stream",
     "text": [
      "Co-sine value of the array :  [ 0.42417901  0.90744678  0.85322011  0.52532199 -0.96260587  0.89986683\n",
      " -0.83907153 -0.66693806]\n"
     ]
    }
   ],
   "source": [
    "print(\"Co-sine value of the array : \", np.cos(myarray))"
   ]
  },
  {
   "cell_type": "code",
   "execution_count": 22,
   "id": "474683e8",
   "metadata": {},
   "outputs": [
    {
     "name": "stdout",
     "output_type": "stream",
     "text": [
      "tangent value of the array :  [-2.1348967   0.46302113 -0.61127369  1.61977519 -0.2814296   0.48469923\n",
      "  0.64836083 -1.11721493]\n"
     ]
    }
   ],
   "source": [
    "print(\"tangent value of the array : \", np.tan(myarray))"
   ]
  },
  {
   "cell_type": "markdown",
   "id": "e35c3967",
   "metadata": {},
   "source": [
    "# Some Logarithmic functions"
   ]
  },
  {
   "cell_type": "code",
   "execution_count": 24,
   "id": "3ef75be0",
   "metadata": {},
   "outputs": [
    {
     "name": "stdout",
     "output_type": "stream",
     "text": [
      "Log of all the value of the array :  [3.17805383 2.56494936 4.02535169 3.80666249 3.33220451 4.04305127\n",
      " 2.30258509 3.68887945]\n"
     ]
    }
   ],
   "source": [
    "print(\"Log of all the value of the array : \", np.log(myarray))"
   ]
  },
  {
   "cell_type": "code",
   "execution_count": 25,
   "id": "5be0aa5a",
   "metadata": {},
   "outputs": [
    {
     "name": "stdout",
     "output_type": "stream",
     "text": [
      "Log with base 10 value of the array :  [1.38021124 1.11394335 1.74818803 1.65321251 1.44715803 1.75587486\n",
      " 1.         1.60205999]\n"
     ]
    }
   ],
   "source": [
    "print(\"Log with base 10 value of the array : \", np.log10(myarray))"
   ]
  },
  {
   "cell_type": "code",
   "execution_count": 26,
   "id": "79eb6445",
   "metadata": {},
   "outputs": [
    {
     "name": "stdout",
     "output_type": "stream",
     "text": [
      "Exponential value of the array :  [2.64891221e+10 4.42413392e+05 2.09165950e+24 3.49342711e+19\n",
      " 1.44625706e+12 5.68572000e+24 2.20264658e+04 2.35385267e+17]\n"
     ]
    }
   ],
   "source": [
    "print(\"Exponential value of the array : \", np.exp(myarray))"
   ]
  },
  {
   "cell_type": "code",
   "execution_count": null,
   "id": "5a5a7659",
   "metadata": {},
   "outputs": [],
   "source": []
  }
 ],
 "metadata": {
  "kernelspec": {
   "display_name": "Python 3 (ipykernel)",
   "language": "python",
   "name": "python3"
  },
  "language_info": {
   "codemirror_mode": {
    "name": "ipython",
    "version": 3
   },
   "file_extension": ".py",
   "mimetype": "text/x-python",
   "name": "python",
   "nbconvert_exporter": "python",
   "pygments_lexer": "ipython3",
   "version": "3.9.7"
  }
 },
 "nbformat": 4,
 "nbformat_minor": 5
}
